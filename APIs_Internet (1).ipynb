{
 "cells": [
  {
   "cell_type": "markdown",
   "id": "eff35065-aba0-4f97-b0aa-47d3ebc5155d",
   "metadata": {},
   "source": [
    "## What is an API?\n",
    "\n",
    "API’s are a very common set of tools and protocols that allow interaction between applications residing on different computers (servers). API’s allow these things to access information from each other.\n",
    "\n",
    "An API is another kind of user interface but the user is not a human being, it’s a machine, a software application running on your computer for example. It allows a machine to access information and is designed so it can do it easily. If one device or machine wants to talk to another or get information from another it can do this through an API."
   ]
  },
  {
   "cell_type": "markdown",
   "id": "8693d494-9f28-445a-9b3c-3d5629eaf8b0",
   "metadata": {},
   "source": [
    "Before going any further let's take a look at both the documentation for the [OpenWeather API](https://openweathermap.org/api) and for the [requests library](https://docs.python-requests.org/en/latest/)."
   ]
  },
  {
   "cell_type": "code",
   "execution_count": 7,
   "id": "73d9a64e-cf5f-4897-adc8-b061dde5c94d",
   "metadata": {},
   "outputs": [
    {
     "name": "stdout",
     "output_type": "stream",
     "text": [
      "200\n"
     ]
    }
   ],
   "source": [
    "import requests\n",
    "\n",
    "url = 'http://api.openweathermap.org/data/2.5/weather?q=Boston&appid=15ece53c9c5a8b3fbbe2ce705860281a&mode=json&units=imperial'\n",
    "r = requests.get(url)\n",
    "print(r.status_code)"
   ]
  },
  {
   "cell_type": "markdown",
   "id": "b44afad1-d5ca-4da5-a803-ab1c6afd3b18",
   "metadata": {},
   "source": [
    "What is status code 200? [List of Status Codes](https://en.wikipedia.org/wiki/List_of_HTTP_status_codes) "
   ]
  },
  {
   "cell_type": "code",
   "execution_count": 11,
   "id": "8d91727d-8f47-4181-94e7-00a74bbaa3ed",
   "metadata": {},
   "outputs": [],
   "source": [
    "import json\n",
    "\n",
    "import requests\n",
    "\n",
    "\n",
    "class OpenWeather():\n",
    "    \"\"\"\n",
    "    documentation = https://openweathermap.org/current\n",
    "    \"\"\"\n",
    "    endpoint_template = \\\n",
    "        'http://api.openweathermap.org/data/2.5/weather?q={city name}&appid={API key}&mode={mode}&units={units}'\n",
    "    api_key = '15ece53c9c5a8b3fbbe2ce705860281a'\n",
    "\n",
    "    def __init__(self):\n",
    "        self.endpoint = OpenWeather.endpoint_template.replace('{API key}', OpenWeather.api_key)\n",
    "\n",
    "    def execute(self, city, mode='json', units='imperial'):\n",
    "        endpoint = self.endpoint.replace('{city name}', city)\n",
    "        endpoint = endpoint.replace('{mode}', mode)\n",
    "        endpoint = endpoint.replace('{units}', units)\n",
    "        \n",
    "        # print the actual endpoint call\n",
    "        print(endpoint)\n",
    "\n",
    "        r = requests.get(endpoint)\n",
    "        print(r.status_code)\n"
   ]
  },
  {
   "cell_type": "code",
   "execution_count": 12,
   "id": "e689da5b-8d54-4f0f-80c9-d5517cf0ab59",
   "metadata": {},
   "outputs": [
    {
     "name": "stdout",
     "output_type": "stream",
     "text": [
      "http://api.openweathermap.org/data/2.5/weather?q=Boston&appid=15ece53c9c5a8b3fbbe2ce705860281a&mode=json&units=imperial\n",
      "200\n"
     ]
    }
   ],
   "source": [
    "open_weather = OpenWeather()\n",
    "open_weather.execute('Boston')"
   ]
  },
  {
   "cell_type": "code",
   "execution_count": 13,
   "id": "712febe6-e3e9-403e-802b-b7df3bce93f5",
   "metadata": {},
   "outputs": [],
   "source": [
    "import json\n",
    "\n",
    "import requests\n",
    "\n",
    "\n",
    "class OpenWeather():\n",
    "    \"\"\"\n",
    "    documentation = https://openweathermap.org/current\n",
    "    \"\"\"\n",
    "    endpoint_template = \\\n",
    "        'http://api.openweathermap.org/data/2.5/weather?q={city name}&appid={API key}&mode={mode}&units={units}'\n",
    "    api_key = '15ece53c9c5a8b3fbbe2ce705860281a'\n",
    "\n",
    "    def __init__(self):\n",
    "        self.endpoint = OpenWeather.endpoint_template.replace('{API key}', OpenWeather.api_key)\n",
    "\n",
    "    def execute(self, city, should_print=False, mode='json', units='imperial'):\n",
    "        endpoint = self.endpoint.replace('{city name}', city)\n",
    "        endpoint = endpoint.replace('{mode}', mode)\n",
    "        endpoint = endpoint.replace('{units}', units)\n",
    "\n",
    "        r = requests.get(endpoint)\n",
    "        if mode == 'json':\n",
    "            r_as_json = json.loads(r.text)\n",
    "            if should_print:\n",
    "                print(json.dumps(r_as_json, indent=2))\n",
    "            return r_as_json\n",
    "        elif mode == 'xml':\n",
    "            pass\n",
    "        elif mode == 'html':\n",
    "            pass\n",
    "        else:\n",
    "            if should_print:\n",
    "                print(r.text)\n",
    "\n"
   ]
  },
  {
   "cell_type": "code",
   "execution_count": 14,
   "id": "82ad32a9-f94c-4aba-a6ad-cc2ffc8c1495",
   "metadata": {},
   "outputs": [
    {
     "name": "stdout",
     "output_type": "stream",
     "text": [
      "{\n",
      "  \"coord\": {\n",
      "    \"lon\": -71.0598,\n",
      "    \"lat\": 42.3584\n",
      "  },\n",
      "  \"weather\": [\n",
      "    {\n",
      "      \"id\": 802,\n",
      "      \"main\": \"Clouds\",\n",
      "      \"description\": \"scattered clouds\",\n",
      "      \"icon\": \"03d\"\n",
      "    }\n",
      "  ],\n",
      "  \"base\": \"stations\",\n",
      "  \"main\": {\n",
      "    \"temp\": 48.25,\n",
      "    \"feels_like\": 48.25,\n",
      "    \"temp_min\": 45.36,\n",
      "    \"temp_max\": 51.04,\n",
      "    \"pressure\": 1025,\n",
      "    \"humidity\": 50\n",
      "  },\n",
      "  \"visibility\": 10000,\n",
      "  \"wind\": {\n",
      "    \"speed\": 1.01,\n",
      "    \"deg\": 169,\n",
      "    \"gust\": 8.01\n",
      "  },\n",
      "  \"clouds\": {\n",
      "    \"all\": 40\n",
      "  },\n",
      "  \"dt\": 1636056129,\n",
      "  \"sys\": {\n",
      "    \"type\": 2,\n",
      "    \"id\": 2013408,\n",
      "    \"country\": \"US\",\n",
      "    \"sunrise\": 1636024892,\n",
      "    \"sunset\": 1636061643\n",
      "  },\n",
      "  \"timezone\": -14400,\n",
      "  \"id\": 4930956,\n",
      "  \"name\": \"Boston\",\n",
      "  \"cod\": 200\n",
      "}\n",
      "T=48.25; H=50, dt=2021-11-04 20:02:09\n"
     ]
    }
   ],
   "source": [
    "from datetime import datetime\n",
    "\n",
    "\n",
    "def main_1():\n",
    "    open_weather = OpenWeather()\n",
    "    r_as_json = open_weather.execute('Boston', should_print=True)\n",
    "    \n",
    "    ts = r_as_json['dt']\n",
    "    dt = datetime.utcfromtimestamp(ts).strftime('%Y-%m-%d %H:%M:%S')\n",
    "    temp = r_as_json['main']['temp']\n",
    "    humidity = r_as_json['main']['humidity']\n",
    "    print(f'T={temp}; H={humidity}, dt={dt}')\n",
    "    \n",
    "    # open_weather.execute('Boston', should_print=False, mode='xml')\n",
    "    # open_weather.execute('Boston', should_print=False, mode='html')\n",
    "\n",
    "\n",
    "main_1()"
   ]
  },
  {
   "cell_type": "code",
   "execution_count": 15,
   "id": "11f9ebc5-f61d-463c-a8e1-3c104b0ba571",
   "metadata": {},
   "outputs": [
    {
     "name": "stdout",
     "output_type": "stream",
     "text": [
      "Baltimore: T=51.37; H=49, dt=2021-11-04 20:00:52\n",
      "Philadelphia: T=50.45; H=43, dt=2021-11-04 20:03:42\n",
      "New York: T=50.43; H=37, dt=2021-11-04 20:06:03\n",
      "Boston: T=48.25; H=50, dt=2021-11-04 20:02:09\n",
      "London: T=43.39; H=82, dt=2021-11-04 20:05:37\n",
      "Paris: T=45.97; H=93, dt=2021-11-04 20:03:15\n",
      "Berlin: T=45.63; H=93, dt=2021-11-04 20:02:40\n",
      "Moscow: T=42.94; H=88, dt=2021-11-04 20:02:19\n",
      "Tokyo: T=55.35; H=68, dt=2021-11-04 20:05:11\n",
      "Seoul: T=45.46; H=74, dt=2021-11-04 20:06:07\n",
      "Beijing: T=46.29; H=56, dt=2021-11-04 20:02:58\n",
      "Shanghai: T=62.78; H=95, dt=2021-11-04 20:06:07\n",
      "Hong Kong: T=76.87; H=88, dt=2021-11-04 20:05:38\n",
      "Hanoi: T=75.2; H=95, dt=2021-11-04 20:03:40\n",
      "Singapore: T=77; H=90, dt=2021-11-04 20:05:06\n",
      "Bangkok: T=82.71; H=71, dt=2021-11-04 20:06:00\n",
      "Mumbai: T=67.98; H=100, dt=2021-11-04 20:05:53\n",
      "Delhi: T=66.29; H=94, dt=2021-11-04 20:03:07\n",
      "Sydney: T=62.73; H=94, dt=2021-11-04 20:06:59\n",
      "Melbourne: T=76.87; H=80, dt=2021-11-04 20:03:28\n"
     ]
    }
   ],
   "source": [
    "from datetime import datetime\n",
    "\n",
    "\n",
    "def main_2(cities):\n",
    "    open_weather = OpenWeather()\n",
    "    \n",
    "    for city in cities:\n",
    "        r_as_json = open_weather.execute(city, should_print=False)\n",
    "    \n",
    "        ts = r_as_json['dt']\n",
    "        dt = datetime.utcfromtimestamp(ts).strftime('%Y-%m-%d %H:%M:%S')\n",
    "        temp = r_as_json['main']['temp']\n",
    "        humidity = r_as_json['main']['humidity']\n",
    "        print(f'{city}: T={temp}; H={humidity}, dt={dt}')\n",
    "    \n",
    "cities = ['Baltimore', 'Philadelphia', 'New York', 'Boston', 'London', 'Paris', 'Berlin', 'Moscow', \n",
    "          'Tokyo', 'Seoul', 'Beijing', 'Shanghai', 'Hong Kong', 'Hanoi', 'Singapore', 'Bangkok', 'Mumbai',\n",
    "          'Delhi', 'Sydney', 'Melbourne']\n",
    "main_2(cities)"
   ]
  },
  {
   "cell_type": "markdown",
   "id": "24111f44-caf0-433b-92d1-884f03961874",
   "metadata": {},
   "source": [
    "# POSTMAN\n",
    "\n",
    "A great client application [Postman](https://www.postman.com/) to consume and learn about API calls and specific APIs."
   ]
  },
  {
   "cell_type": "markdown",
   "id": "f5568575-34fc-4c10-87bc-c7d616367b8d",
   "metadata": {},
   "source": [
    "# How does the Internet work?\n"
   ]
  },
  {
   "cell_type": "markdown",
   "id": "0e59d367-7924-4fd4-a0f0-3d4e5979e4aa",
   "metadata": {},
   "source": [
    "Some information from the Internet:\n",
    "\n",
    "1. [From Microsoft](https://developer.mozilla.org/en-US/docs/Learn/Common_questions/How_does_the_Internet_work)\n",
    "2. [From HP](https://www.hp.com/us-en/shop/tech-takes/how-does-the-internet-work)\n"
   ]
  },
  {
   "cell_type": "code",
   "execution_count": null,
   "id": "1aeb6185-a869-40a1-9b55-64ec5d28574e",
   "metadata": {},
   "outputs": [],
   "source": []
  }
 ],
 "metadata": {
  "kernelspec": {
   "display_name": "Python 3",
   "language": "python",
   "name": "python3"
  },
  "language_info": {
   "codemirror_mode": {
    "name": "ipython",
    "version": 3
   },
   "file_extension": ".py",
   "mimetype": "text/x-python",
   "name": "python",
   "nbconvert_exporter": "python",
   "pygments_lexer": "ipython3",
   "version": "3.8.8"
  }
 },
 "nbformat": 4,
 "nbformat_minor": 5
}
